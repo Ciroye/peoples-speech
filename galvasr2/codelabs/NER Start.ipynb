{
 "cells": [
  {
   "cell_type": "code",
   "execution_count": null,
   "metadata": {},
   "outputs": [],
   "source": [
    "import logging\n",
    "from galvasr2.align.spark.align_lib import load_audio_id_text_id_mapping, load_transcripts\n",
    "\n",
    "\n",
    "spark = SparkSession.builder \\\n",
    "                      .master(\"local[*]\") \\\n",
    "                      .appName(\"NER\") \\\n",
    "                      .config(\"spark.sql.execution.arrow.pyspark.enabled\", \"true\")\\\n",
    "                      .config(\"spark.driver.extraJavaOptions\", \"-Dio.netty.tryReflectionSetAccessible=true\")\\\n",
    "                      .config(\"spark.executor.extraJavaOptions\", \"-Dio.netty.tryReflectionSetAccessible=true\")\\\n",
    "                      .config(\"spark.driver.memory\", \"40g\")\\\n",
    "                      .config(\"spark.executor.memory\", \"40g\")\\\n",
    "                      .config(\"spark.rpc.askTimeout\", \"480s\")\\\n",
    "                      .config(\"spark.executor.heartbeatInterval\", \"20000ms\")\\\n",
    "                      .config(\"spark.eventLog.enabled\", \"true\")\\\n",
    "                      .getOrCreate()\n",
    "# spark.sparkContext.setLogLevel(\"INFO\") # \"ALL\" for very verbose logging                                                                                                                                   \n",
    "logging.getLogger(\"py4j\").setLevel(logging.ERROR)\n",
    "catalogue_df = load_audio_id_text_id_mapping(spark, \"gs://the-peoples-speech-west-europe/archive_org/Mar_7_2021/CC_BY_SA_EXPANDED_LICENSES_FILTERED_ACCESS.jsonl.gz\")\n",
    "training_sample_rows = catalogue_df.collect()\n",
    "\n",
    "# Comment this out to load everything. It might takes ~15 minute, in my experience, on an 8 core machine.\n",
    "training_sample_rows = training_sample_rows[:100]\n",
    "transcripts_df = load_transcripts(spark,\n",
    "                                  \"gs://the-peoples-speech-west-europe/archive_org/Mar_7_2021/CC_BY_SA_EXPANDED_LICENSES_FILTERED_ACCESS\",\n",
    "                                  training_sample_rows)\n",
    "transcripts_pdf = transcripts_df.toPandas()"
   ]
  },
  {
   "cell_type": "code",
   "execution_count": 6,
   "metadata": {},
   "outputs": [
    {
     "data": {
      "text/plain": [
       "transcript          100\n",
       "text_document_id    100\n",
       "dtype: int64"
      ]
     },
     "execution_count": 6,
     "metadata": {},
     "output_type": "execute_result"
    }
   ],
   "source": [
    "transcripts_pdf.count()"
   ]
  }
 ],
 "metadata": {
  "kernelspec": {
   "display_name": "Python 3",
   "language": "python",
   "name": "python3"
  },
  "language_info": {
   "codemirror_mode": {
    "name": "ipython",
    "version": 3
   },
   "file_extension": ".py",
   "mimetype": "text/x-python",
   "name": "python",
   "nbconvert_exporter": "python",
   "pygments_lexer": "ipython3",
   "version": "3.7.6"
  }
 },
 "nbformat": 4,
 "nbformat_minor": 4
}
